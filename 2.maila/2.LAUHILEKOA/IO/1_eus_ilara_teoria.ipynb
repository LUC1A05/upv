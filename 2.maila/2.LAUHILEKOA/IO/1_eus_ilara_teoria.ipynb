{
 "cells": [
  {
   "cell_type": "markdown",
   "metadata": {},
   "source": [
    "# **PYTHONerako SARRERA**"
   ]
  },
  {
   "cell_type": "markdown",
   "metadata": {},
   "source": [
    "Irakasgai honetan Python erabiliko dugu ordenagailu-praktiketako programazio-lengoaitzat. Python oso moldakorra da, eta horrexegatik erabiltzen da hainbeste Datu Zientzietako hainbat alorretan (Ikerketa Operatiboko hainbat zenbakizko problematan, besteak beste) eta Adimen Artifizialerako programazioan. \n",
    "\n",
    "Oraingo honetan, lengoai honek eskaintzen dituen oinarrizko tresnak aztertzean jarriko dugu arreta, egitura konplexuen programazioan baino. Hori dela eta, zenbait oinarrizko kontzeptu berrikusiko ditugu orain, aurrerago zure kasa errazago lan egin ahal izateko.\n",
    "\n",
    "## **Python-en oinarrizko komandoak**\n",
    "\n",
    "### **Paintailako inprimatzea**\n",
    "\n",
    "Has gaitezen zenbait zenbakizko aldagai definituz eta horien balioa pantailan erakutsiz:"
   ]
  },
  {
   "cell_type": "code",
   "execution_count": 2,
   "metadata": {},
   "outputs": [
    {
     "name": "stdout",
     "output_type": "stream",
     "text": [
      "2\n",
      "3.5\n",
      "5.5\n"
     ]
    }
   ],
   "source": [
    "x=2\n",
    "y=3.5\n",
    "print(x)\n",
    "print(y)\n",
    "print(x+y)"
   ]
  },
  {
   "cell_type": "markdown",
   "metadata": {},
   "source": [
    "Testua aurreko aldagaiekin batera erakusteko, zenbait era baliokidetan egin dezakegu:"
   ]
  },
  {
   "cell_type": "code",
   "execution_count": 5,
   "metadata": {},
   "outputs": [
    {
     "name": "stdout",
     "output_type": "stream",
     "text": [
      "x aldagaiaren balioa: 2\n",
      "x aldagaiaren balioa: 2\n",
      "x aldagaiaren balioa: 2\n"
     ]
    }
   ],
   "source": [
    "print(\"x aldagaiaren balioa:\",x)\n",
    "print(\"x aldagaiaren balioa: \"+str(x))\n",
    "print(f\"x aldagaiaren balioa: {x}\")"
   ]
  },
  {
   "cell_type": "markdown",
   "metadata": {},
   "source": [
    "Ikusi dugunaren arabera, \"+\" erabili dezakegun string-ak kateatzeko. Aurrerago azterktuko dugun bezala, zerrendak kateatzeko ere \"+\" erabili daiteke, eta zenbakien arteko ohiko gehiketa adierazteko ere.\n",
    " \n",
    "Horrez gain, azkeneko adibidean aplikatu dugu Python-en nahiko erabiliak diren **f-string** (*formatted string*) motako egitura. Horri esker, aldagaien balioak erraz sartu ahal izango ditugu string-kateen barnean era oso konpaktuan. Kurtso honetan maiz erabiliko dugu mota horretako inprimatzea."
   ]
  },
  {
   "cell_type": "markdown",
   "metadata": {},
   "source": [
    "### **Kontrol-egiturak**"
   ]
  },
  {
   "cell_type": "markdown",
   "metadata": {},
   "source": [
    "Python-ek indentazioa erabiltzen du kontro-egituren definizioan. Adibidez, **if** motako egiturak horrela ematen dira: "
   ]
  },
  {
   "cell_type": "code",
   "execution_count": 10,
   "metadata": {},
   "outputs": [
    {
     "name": "stdout",
     "output_type": "stream",
     "text": [
      "x bikoitia da.\n"
     ]
    }
   ],
   "source": [
    "if x%2==0:\n",
    "    print(\"x bikoitia da.\")\n",
    "else:\n",
    "    print(\"x bakoitia da\")"
   ]
  },
  {
   "cell_type": "markdown",
   "metadata": {},
   "source": [
    "Bestalde, **while** zikloak egitura berdintsua dute:"
   ]
  },
  {
   "cell_type": "code",
   "execution_count": 13,
   "metadata": {},
   "outputs": [
    {
     "name": "stdout",
     "output_type": "stream",
     "text": [
      "2\n",
      "3\n",
      "4\n"
     ]
    }
   ],
   "source": [
    "x=2\n",
    "\n",
    "while x<5:\n",
    "    print(x)\n",
    "    x+=1"
   ]
  },
  {
   "cell_type": "markdown",
   "metadata": {},
   "source": [
    "Azkenik, **for** zikloek honakeo egitura hau dute: "
   ]
  },
  {
   "cell_type": "code",
   "execution_count": 16,
   "metadata": {},
   "outputs": [
    {
     "name": "stdout",
     "output_type": "stream",
     "text": [
      "i=0\n",
      "i=1\n",
      "i=2\n",
      "i=3\n",
      "i=4\n"
     ]
    }
   ],
   "source": [
    "for i in range(5):\n",
    "    print(f\"i={i}\")"
   ]
  },
  {
   "cell_type": "markdown",
   "metadata": {},
   "source": [
    "### **Funtzioen definizioa**"
   ]
  },
  {
   "cell_type": "markdown",
   "metadata": {},
   "source": [
    "Bi eratara definitu daitezke funtzioak Python-en. Lehenengo forma (erabiliena) hauxe da:"
   ]
  },
  {
   "cell_type": "code",
   "execution_count": 20,
   "metadata": {},
   "outputs": [],
   "source": [
    "def sumprod(x,y):\n",
    "    return x+y+x*y"
   ]
  },
  {
   "cell_type": "code",
   "execution_count": 22,
   "metadata": {},
   "outputs": [
    {
     "data": {
      "text/plain": [
       "11"
      ]
     },
     "execution_count": 22,
     "metadata": {},
     "output_type": "execute_result"
    }
   ],
   "source": [
    "sumprod(2,3)"
   ]
  },
  {
   "cell_type": "markdown",
   "metadata": {},
   "source": [
    "Bestalde, nahiko zuzenezkoak izan daitezkeen funtzioak definitzeko, ohikoa da **lambda** komandoa erabiltzea:"
   ]
  },
  {
   "cell_type": "code",
   "execution_count": 25,
   "metadata": {},
   "outputs": [],
   "source": [
    "sumprod2 = lambda x,y: x+y+x*y"
   ]
  },
  {
   "cell_type": "code",
   "execution_count": 27,
   "metadata": {},
   "outputs": [
    {
     "data": {
      "text/plain": [
       "11"
      ]
     },
     "execution_count": 27,
     "metadata": {},
     "output_type": "execute_result"
    }
   ],
   "source": [
    "sumprod2(2,3)"
   ]
  },
  {
   "cell_type": "markdown",
   "metadata": {},
   "source": [
    "### **Liburutegiak**"
   ]
  },
  {
   "cell_type": "markdown",
   "metadata": {},
   "source": [
    "Sarritan, Pythonen defektuz barneratuta ez dauden funtzioak eta objektuak erabili nahi izango ditugu. Adibidez, esponentziala, adierazpen trigonometrikoak edo faktoriala erabili nahi izanez gero, edo ausazko zenbakiak sortu nahi baditugu, **liburutegiak** inportatu beharko ditugu (kodearen hasieran, orokorrean):"
   ]
  },
  {
   "cell_type": "code",
   "execution_count": 31,
   "metadata": {},
   "outputs": [],
   "source": [
    "import math  # Oinarrizko funtzio matematikoak erabiltzeko\n",
    "import numpy as np # Zerrendak matrizeak bezala erabiltzeko"
   ]
  },
  {
   "cell_type": "markdown",
   "metadata": {},
   "source": [
    "Adibidez:"
   ]
  },
  {
   "cell_type": "code",
   "execution_count": 34,
   "metadata": {},
   "outputs": [
    {
     "data": {
      "text/plain": [
       "3628800"
      ]
     },
     "execution_count": 34,
     "metadata": {},
     "output_type": "execute_result"
    }
   ],
   "source": [
    "math.factorial(10)"
   ]
  },
  {
   "cell_type": "code",
   "execution_count": 36,
   "metadata": {},
   "outputs": [
    {
     "data": {
      "text/plain": [
       "0.9092974268256817"
      ]
     },
     "execution_count": 36,
     "metadata": {},
     "output_type": "execute_result"
    }
   ],
   "source": [
    "math.sin(2)"
   ]
  },
  {
   "cell_type": "code",
   "execution_count": 38,
   "metadata": {},
   "outputs": [
    {
     "data": {
      "text/plain": [
       "2.23606797749979"
      ]
     },
     "execution_count": 38,
     "metadata": {},
     "output_type": "execute_result"
    }
   ],
   "source": [
    "math.sqrt(5)"
   ]
  },
  {
   "cell_type": "code",
   "execution_count": 40,
   "metadata": {},
   "outputs": [
    {
     "data": {
      "text/plain": [
       "3.141592653589793"
      ]
     },
     "execution_count": 40,
     "metadata": {},
     "output_type": "execute_result"
    }
   ],
   "source": [
    "math.pi"
   ]
  },
  {
   "cell_type": "code",
   "execution_count": 42,
   "metadata": {},
   "outputs": [
    {
     "data": {
      "text/plain": [
       "1.4142135623730951"
      ]
     },
     "execution_count": 42,
     "metadata": {},
     "output_type": "execute_result"
    }
   ],
   "source": [
    "2**(1/2)"
   ]
  },
  {
   "cell_type": "markdown",
   "metadata": {},
   "source": [
    "Informazio gehigarrirako, [math liburutegiaren dokumentazioa](https://docs.python.org/3/library/math.html) eskuragarri duzu."
   ]
  },
  {
   "cell_type": "markdown",
   "metadata": {},
   "source": [
    "### **Zerrendak**"
   ]
  },
  {
   "cell_type": "markdown",
   "metadata": {},
   "source": [
    "Pythonek zenbait datu-egitura mota ezberdin ditu (zerrendak, tuplak, hiztegiak). Guk, orokorrean, zerrendetan jarriko dugu arreta, ondorengo itxura dutenak:"
   ]
  },
  {
   "cell_type": "code",
   "execution_count": 47,
   "metadata": {},
   "outputs": [],
   "source": [
    "list=[0,5,10,15,20,25]"
   ]
  },
  {
   "cell_type": "markdown",
   "metadata": {},
   "source": [
    "Zerrendaren elementuak horrela lortu ditzakegu:"
   ]
  },
  {
   "cell_type": "code",
   "execution_count": 50,
   "metadata": {},
   "outputs": [
    {
     "name": "stdout",
     "output_type": "stream",
     "text": [
      "0\n",
      "10\n",
      "[10, 15]\n"
     ]
    }
   ],
   "source": [
    "print(list[0])\n",
    "print(list[2])\n",
    "print(list[2:4])"
   ]
  },
  {
   "cell_type": "markdown",
   "metadata": {},
   "source": [
    "Aplikazio matematikoetan ohikoa da **for** zikloak erabiltzea zerrendak osatzeko:"
   ]
  },
  {
   "cell_type": "code",
   "execution_count": 52,
   "metadata": {},
   "outputs": [
    {
     "name": "stdout",
     "output_type": "stream",
     "text": [
      "[0, 5, 10, 15, 20, 25]\n"
     ]
    }
   ],
   "source": [
    "list1=[]\n",
    "for i in range(6):\n",
    "    list1.append(i*5)\n",
    "\n",
    "print(list1)"
   ]
  },
  {
   "cell_type": "markdown",
   "metadata": {},
   "source": [
    "Dena dela, Pythonek baditu zerrendak osatzeko bestelako metodoak, *zerrenda-ulermenak* (*list comprehension*) deiturikoak. Horien arabera, laburki idatz dezakegu **for** zikloa lerro bakar batean:"
   ]
  },
  {
   "cell_type": "code",
   "execution_count": 55,
   "metadata": {},
   "outputs": [
    {
     "name": "stdout",
     "output_type": "stream",
     "text": [
      "[0, 5, 10, 15, 20, 25]\n",
      "[1, 8, 27, 64, 125, 216, 343, 512, 729, 1000]\n"
     ]
    }
   ],
   "source": [
    "list2=[i*5 for i in range(6)]\n",
    "print(list2)\n",
    "\n",
    "list3=[i**3 for i in range(1,11)]\n",
    "print(list3)"
   ]
  },
  {
   "cell_type": "markdown",
   "metadata": {},
   "source": [
    "**Ariketa:** Hurrengo identitatea egiaztatu ezazu:\n",
    "\\begin{equation}\n",
    "    \\pi = \\sqrt{6\\sum_{n=1}^{\\infty} \\frac{1}{n^2}} .\n",
    "\\end{equation}\n",
    "Horretarako, bertan agertzen den gehiketa erabili ezazu 10, 100 eta 1000 termino kontuan harturik.\n",
    "\n",
    "*[Oharra: Zerrenda baten elementuak batzeko sum(list) komandoa erabili ezazu. Bestalde, x zenbaki baten erro karratua lortzeko, math.sqrt(x) erabili ezazu.]*\n"
   ]
  },
  {
   "cell_type": "code",
   "execution_count": null,
   "metadata": {},
   "outputs": [],
   "source": [
    "import math"
   ]
  },
  {
   "cell_type": "code",
   "execution_count": 57,
   "metadata": {},
   "outputs": [
    {
     "data": {
      "text/plain": [
       "3.0395075895610533"
      ]
     },
     "execution_count": 57,
     "metadata": {},
     "output_type": "execute_result"
    }
   ],
   "source": [
    "list4 = [1/(i**2) for i in range(1,10)]\n",
    "math.sqrt(6*sum(list4))"
   ]
  },
  {
   "cell_type": "code",
   "execution_count": 59,
   "metadata": {},
   "outputs": [
    {
     "data": {
      "text/plain": [
       "3.0395075895610533"
      ]
     },
     "execution_count": 59,
     "metadata": {},
     "output_type": "execute_result"
    }
   ],
   "source": [
    "math.sqrt(6*sum([1/(i**2) for i in range(1,10)]))"
   ]
  },
  {
   "cell_type": "markdown",
   "metadata": {},
   "source": [
    "## **Numpy**"
   ]
  },
  {
   "cell_type": "markdown",
   "metadata": {},
   "source": [
    "Ikus dezagun zer gertatzen den bi zerrenda batzerakoan:"
   ]
  },
  {
   "cell_type": "code",
   "execution_count": 63,
   "metadata": {},
   "outputs": [
    {
     "name": "stdout",
     "output_type": "stream",
     "text": [
      "[1, 2, 3, 4, 5, 6]\n"
     ]
    }
   ],
   "source": [
    "list1=[1,2,3]\n",
    "list2=[4,5,6]\n",
    "\n",
    "print(list1+list2)"
   ]
  },
  {
   "cell_type": "markdown",
   "metadata": {},
   "source": [
    "Alegia, \"+\" operazioak zerrendak **kateatzen** ditu Pythonen. Aplikazio matematikoak jorratzerakoan, beharrezkoa izango zaigu zerrenda horiek bektore, matrize edo tentsoretzat (bi indize baino gehiago dituzten matrizetzat) jotzea. Horretarako **Numpy** liburutegia erabiltzea ohikoa da, zerrendak matrizeak izango balira bezala ahalbidetuko duena. \n",
    "\n",
    "Lehenik eta behin, **Numpy** inportatuko dugu liburutegiko funtzioak erabili ahal izateko:"
   ]
  },
  {
   "cell_type": "code",
   "execution_count": 66,
   "metadata": {},
   "outputs": [],
   "source": [
    "import numpy as np"
   ]
  },
  {
   "cell_type": "markdown",
   "metadata": {},
   "source": [
    "Numpy-ko objekturik garrantzitsuenetarikoak ditugu **array**ak, horrela definitzen direnak:"
   ]
  },
  {
   "cell_type": "code",
   "execution_count": 69,
   "metadata": {},
   "outputs": [
    {
     "name": "stdout",
     "output_type": "stream",
     "text": [
      "[5 7 9]\n"
     ]
    }
   ],
   "source": [
    "array1=np.array(list1)\n",
    "array2=np.array(list2)\n",
    "\n",
    "print(array1+array2)"
   ]
  },
  {
   "cell_type": "markdown",
   "metadata": {},
   "source": [
    "Matrizeak sortu ditzakegu arrayen bidez, horiekin erraz egiteko lan:"
   ]
  },
  {
   "cell_type": "code",
   "execution_count": 72,
   "metadata": {},
   "outputs": [],
   "source": [
    "arr3=np.array([[1,2],[3,4]])\n",
    "arr4=np.array([[10,20],[30,40]])"
   ]
  },
  {
   "cell_type": "code",
   "execution_count": 74,
   "metadata": {},
   "outputs": [
    {
     "name": "stdout",
     "output_type": "stream",
     "text": [
      "[[1 2]\n",
      " [3 4]]\n"
     ]
    }
   ],
   "source": [
    "print(arr3)"
   ]
  },
  {
   "cell_type": "code",
   "execution_count": 78,
   "metadata": {},
   "outputs": [
    {
     "name": "stdout",
     "output_type": "stream",
     "text": [
      "[1 2]\n",
      "[2 4]\n",
      "4\n"
     ]
    }
   ],
   "source": [
    "print(arr3[0])   # Lehenengo errenkada inprimatu\n",
    "print(arr3[:,1]) # Bigarren zutabea inprimatu: zutabearen elementu guztiak hartu\n",
    "print(arr3[1,1]) # (1,1) elementua inprimatu: zutabearen lehenengo elementua soilik"
   ]
  },
  {
   "cell_type": "code",
   "execution_count": 80,
   "metadata": {},
   "outputs": [
    {
     "name": "stdout",
     "output_type": "stream",
     "text": [
      "[[11 22]\n",
      " [33 44]]\n"
     ]
    }
   ],
   "source": [
    "print(arr3+arr4) # Matrizeen gehiketa"
   ]
  },
  {
   "cell_type": "code",
   "execution_count": 82,
   "metadata": {},
   "outputs": [
    {
     "name": "stdout",
     "output_type": "stream",
     "text": [
      "[[ 10  40]\n",
      " [ 90 160]]\n"
     ]
    }
   ],
   "source": [
    "print(arr3*arr4) # Elementukako biderketa"
   ]
  },
  {
   "cell_type": "code",
   "execution_count": 84,
   "metadata": {},
   "outputs": [
    {
     "name": "stdout",
     "output_type": "stream",
     "text": [
      "[[ 70 100]\n",
      " [150 220]]\n"
     ]
    }
   ],
   "source": [
    "print(arr3@arr4) # Ohiko matrize-biderketa"
   ]
  },
  {
   "cell_type": "markdown",
   "metadata": {},
   "source": [
    "Numpy liburutegia erabiltzearen bestelako abantaila bat dugu funtzio matematikoak arrayaren elementu guztiei oso erraz aplikatu ahal dizkiegula:"
   ]
  },
  {
   "cell_type": "code",
   "execution_count": 87,
   "metadata": {},
   "outputs": [
    {
     "data": {
      "text/plain": [
       "array([[ 2.71828183,  7.3890561 ],\n",
       "       [20.08553692, 54.59815003]])"
      ]
     },
     "execution_count": 87,
     "metadata": {},
     "output_type": "execute_result"
    }
   ],
   "source": [
    "np.exp(arr3)"
   ]
  },
  {
   "cell_type": "code",
   "execution_count": 89,
   "metadata": {},
   "outputs": [
    {
     "data": {
      "text/plain": [
       "array([[3.16227766, 4.47213595],\n",
       "       [5.47722558, 6.32455532]])"
      ]
     },
     "execution_count": 89,
     "metadata": {},
     "output_type": "execute_result"
    }
   ],
   "source": [
    "np.sqrt(arr4)"
   ]
  },
  {
   "cell_type": "markdown",
   "metadata": {},
   "source": [
    "Numpy liburutegiaren inguruko informazio gehiago lortzeko, ikusi bere [dokumentazioa](https://numpy.org/)."
   ]
  },
  {
   "cell_type": "markdown",
   "metadata": {},
   "source": [
    "## **Funtzioen eta datuen adierazpen grafikoa**"
   ]
  },
  {
   "cell_type": "markdown",
   "metadata": {},
   "source": [
    "Funtzio matematikoak edo datu-sortak grafikoki adierazteko, ohikoa da ondorengo Pythoneko liburutegia inportatzea:"
   ]
  },
  {
   "cell_type": "code",
   "execution_count": 94,
   "metadata": {},
   "outputs": [],
   "source": [
    "import matplotlib.pyplot as plt"
   ]
  },
  {
   "cell_type": "markdown",
   "metadata": {},
   "source": [
    "Orokorrean, ohiko grafikoak oso egitura berdintsua jarraitzen dute. Hori dela eta, zenbait adibide ipiniko ditugu jarraian. Informazio gehigarrirako, ikus Matboliben [dokumentazioa](https://matplotlib.org/) eta [sarrera azkarra](https://matplotlib.org/stable/users/explain/quick_start.html)."
   ]
  },
  {
   "cell_type": "code",
   "execution_count": 103,
   "metadata": {},
   "outputs": [
    {
     "data": {
      "text/plain": [
       "[<matplotlib.lines.Line2D at 0x2046abfb5c0>]"
      ]
     },
     "execution_count": 103,
     "metadata": {},
     "output_type": "execute_result"
    },
    {
     "data": {
      "image/png": "[encoded data removed]",
      "text/plain": [
       "<Figure size 640x480 with 1 Axes>"
      ]
     },
     "metadata": {},
     "output_type": "display_data"
    }
   ],
   "source": [
    "xmin = 0\n",
    "xmax= 2*np.pi\n",
    "puntuak=200\n",
    "\n",
    "x = np.linspace(xmin, xmax, puntuak) # Puntuak sortu xmin eta xmax artean \n",
    "y = np.sin(x) # Funtzioa puntu guztietan ebaluatu\n",
    "\n",
    "fig, ax = plt.subplots()\n",
    "ax.set_xlabel(\"x\")\n",
    "ax.set_ylabel(\"sin(x)\")\n",
    "ax.plot(x, y)\n",
    "# fig.savefig(\"plot.pdf\") # Sortutako irudia direktorio lokalean gorde"
   ]
  },
  {
   "cell_type": "code",
   "execution_count": 105,
   "metadata": {},
   "outputs": [
    {
     "data": {
      "text/plain": [
       "<matplotlib.legend.Legend at 0x2046ac65bb0>"
      ]
     },
     "execution_count": 105,
     "metadata": {},
     "output_type": "execute_result"
    },
    {
     "data": {
      "image/png": "[encoded data removed]",
      "text/plain": [
       "<Figure size 500x270 with 1 Axes>"
      ]
     },
     "metadata": {},
     "output_type": "display_data"
    }
   ],
   "source": [
    "x = np.linspace(0, 2, 100)  \n",
    "\n",
    "fig, ax = plt.subplots(figsize=(5, 2.7))\n",
    "ax.set_xlabel(\"x\")\n",
    "ax.set_ylabel(\"y\")\n",
    "ax.plot(x, x, label='y=x')\n",
    "ax.plot(x, x**2, label='y=x**2')\n",
    "ax.plot(x, x**3, label='y=x**3')\n",
    "ax.legend()"
   ]
  },
  {
   "cell_type": "code",
   "execution_count": 113,
   "metadata": {},
   "outputs": [
    {
     "data": {
      "text/plain": [
       "[<matplotlib.lines.Line2D at 0x20470a1f890>]"
      ]
     },
     "execution_count": 113,
     "metadata": {},
     "output_type": "execute_result"
    },
    {
     "data": {
      "image/png": "[encoded data removed]",
      "text/plain": [
       "<Figure size 640x480 with 1 Axes>"
      ]
     },
     "metadata": {},
     "output_type": "display_data"
    }
   ],
   "source": [
    "x_data = np.array([1,2,3,4,5,6,7])\n",
    "y_data = np.array([2,-3,4,1,3,-1,4])\n",
    "\n",
    "fig, ax = plt.subplots()\n",
    "ax.set_xlabel(\"x\")\n",
    "ax.set_ylabel(\"y\")\n",
    "ax.plot(x_data, y_data,color=\"blue\",marker=\"o\",linestyle=\":\")"
   ]
  },
  {
   "cell_type": "code",
   "execution_count": 115,
   "metadata": {},
   "outputs": [
    {
     "name": "stdin",
     "output_type": "stream",
     "text": [
      "Once deleted, variables cannot be recovered. Proceed (y/[n])?  y\n"
     ]
    }
   ],
   "source": [
    "%reset"
   ]
  },
  {
   "cell_type": "markdown",
   "metadata": {
    "id": "zch_a2wWAYxg"
   },
   "source": [
    "# **ILARA TEORIA**\n",
    "\n"
   ]
  },
  {
   "cell_type": "markdown",
   "metadata": {
    "id": "CnuyINFcBS6U"
   },
   "source": [
    "Hainbat antolakuntza-fenomenotan bi entitate aurkitu ditzakegu: bezeroak eta zerbitzariak. Zerbitzariek, euren izena dioen bezala, zerbitzu bat eskaintzen dituzten entitateak dira (makinak, pertsonak, etab.); bezeroek, bestalde, zerbitzu horiek erabiltzen dituzte. Sistema horiei Ilarak edo Itxaron Lerroak deritze. Ilara bakoitzean zerbitzari kopuru (orokorrean txikia) aurkitu ditzakegu eta zerbitzu-zentro batean batzen dira. Bezeroen helduera-denborak eta zerbitzarien zerbitzu-denborak ausazkoak direnez, gerta liteke bezeroek itxaron behar izatea zerbitzura iritsi ahal izan arte.\n",
    "\n",
    "Ilara teoriak A.K. Erlangen 1909ko lanean du jatorria, non telefono-deien\n",
    "metaketa aztertu zen. Ilara eredurik errazena hurrengo [irudian](https://drive.google.com/uc?export=view&id=1BgcTUuBkQQeK9VZuIx2O0O8ld12i6wsM) ikus daiteke. Bertan,\n",
    "bezeroak sarrerara iturri finitu edo infinitu batetik heltzen dira eta ilara batean itxaroten dute zerbitzaturik izan arte. Bukaeran, zerbitzatuak izan ondoren,\n",
    "erabiltzaileek aurrera egiten dute zerbitzuaren puntu berri batera edo irteerara joaten dira.\n",
    "\n",
    "\n",
    "\n",
    "Ilara motak klasifikatu ahal izateko hurrengo notazioa erabili ohi da:\n",
    "\n",
    " **X/Y/s**\n",
    "\n",
    "non ondorengo definizioak ditugun:\n",
    "\n",
    "- X: bezeroen heldueren arteko denbora adierazten duen banaketa.\n",
    "- Y: zerbitzu-denboraren banaketa.\n",
    "- s: paraleloan lan egiten duten zerbitzari kopurua.\n",
    "\n",
    "Besteak beste, X eta Y banaketa ohikoenak hauexek ditugu:\n",
    "\n",
    "- M: banaketa Markoviarra (edo esponentziala)\n",
    "- D: banaketa endekatua (alegia, denbora konstantekoa).\n",
    "- G: banaketa orokorra.\n",
    "\n",
    "Besterik esan ezean, ilara mugarik gabe handitu daitekeela suposatuko dugu eta, gainera, zerbitzatuko den lehenengo bezeroa lehendabizi iritsi dena izango da (First In, First Out).\n",
    "\n",
    "Adibidez, M/D/1 motako ilara batean, bezeroen arteko iritsiera-denbora banaketa esponentzial baten arabera banaturik egongo da, zerbitzu-denbora konstantea izango da, eta zerbitzari bakarra izango dugu.\n",
    "\n",
    "\n",
    "<br/>\n",
    "\n",
    "Egoera egonkorra lortu ondoren, ilara baten funtzionamendua edo\n",
    "jarduera neurtzeko hainbat oinarrizko ezaugarri daude. Garrantzitsuenak\n",
    "ondorengoak dira:\n",
    "\n",
    "- $N$: Sisteman (ilaran gehi zerbitzuan) dauden bezero-kopurua adierazten duen ausazko aldagaia\n",
    "\n",
    "- $N_q$: Ilaran dauden bezero-kopurua adierazten duen ausazko aldagaia\n",
    "\n",
    "- $T$: Bezero batek sisteman dirauen denbora adierazten duen ausazko aldagaia.\n",
    "\n",
    "- $T_q$: Bezero batek ilaran dirauen denbora adierazten duen ausazko aldagaia.\n",
    "\n",
    "- $P_n$: Sisteman $n$ bezero egoteko probabilitatea.\n",
    "\n",
    "- $L$: Sisteman esperotako bezero kopurua.\n",
    "\n",
    "- $L_q$: Ilaran dauden esperotako bezero kopurua (zerbitzura iristeko itxaroten daudenak).\n",
    "\n",
    "- $W$: Sisteman bezero batek igarotzen duen batezbesteko itxarote-denbora.\n",
    "\n",
    "- $W_q$: Ilaran bezero batek igarotzen duen batezbesteko itxarote-denbora.\n",
    "\n",
    "Bestalde, sisteman dagoen zirkulazioa hurrengo ikurrek zehazten dute:\n",
    "\n",
    "- $\\lambda$ :bezeroen heldueren batezbesteko tasa, edozein n baliotarako konstantea denean.\n",
    "\n",
    "- $\\mu$ : zerbitzu-denboraren batezbesteko tasa, edozein n baliotarako konstantea denean.\n",
    "\n",
    "- $\\rho = \\lambda/\\mu$ : erabilera-faktorea edo trafiko-intentsitatea."
   ]
  },
  {
   "cell_type": "markdown",
   "metadata": {
    "id": "CSofKXIQEOdA"
   },
   "source": [
    "## **M/M/1 eredua**"
   ]
  },
  {
   "cell_type": "markdown",
   "metadata": {
    "id": "8V2rnOtbFqa4"
   },
   "source": [
    "Ilara honetan elkarren segidan heltzen diren bezeroen heldueren arteko denborak\n",
    "$\\lambda$ parametrodun banaketa esponentziala jarraitzen du (zorizko helduerak, banaketa esponentziala jarraitzen dutenak), zerbitzatuak izateko denborak\n",
    "$\\mu$ parametrodun\n",
    "banaketa esponentziala jarraitzen du eta sisteman egon daitezkeen bezero kopurua\n",
    "mugagabea da. Ilara egonkorra izateko, hau da, ilara infinitua sor ez dadin, $\\rho < 1$ izan behar da.\n",
    "\n",
    "Bere oinarrizko ezaugarri nagusiak ondorengoak dira:\n",
    "\n",
    "\\begin{align}\n",
    "P_0 &= 1 - \\rho \\\\[10pt]\n",
    "P_n &= \\rho^n P_0 \\\\[10pt]\n",
    "L_q &= \\frac{\\rho^2}{1-\\rho} \\\\[10pt]\n",
    "L &= \\rho + L_q = \\frac{\\rho}{1-\\rho} \\\\[10pt]\n",
    "W_q &= \\frac{\\rho}{\\mu (1-\\rho)} \\\\[10pt]\n",
    "W &= W_q + \\frac{1}{\\mu} = \\frac{1}{\\mu(1-\\rho)}\n",
    "\\end{align}\n",
    "\n",
    "Sisteman gutxienez bezero bat egoteko probabilitatea (bezero batek itxaron behar\n",
    "izateko probabilitatea) hurrengoa da:\n",
    "\n",
    "$$ P(N>0) = 1 - P_0 = \\rho . $$\n",
    "\n",
    "Sisteman $n$ bezero baino gehiago egoteko probabilitatea ondokoa da:\n",
    "\n",
    "$$ P(N>n) = \\rho^{n+1} . $$\n",
    "\n",
    "Zerbitzaria egonean egoteko probabilitatea edo bezeroek itxaron behar ez izateko\n",
    "probabilitatea ondorengoa da\n",
    "\n",
    "$$ P(N=0) = P_0 = 1 - \\rho $$\n",
    "\n",
    "Bezero bat sistematik $t$ denbora baino lehen aterako delako probabilitatea hauxe dugu:\n",
    "\n",
    "$$ P(T\\leq t) = 1 - e^{-\\mu t (1-\\rho)} $$\n",
    "\n",
    "Bukatzeko, bezero batek ilaran $t$ denbora (edo gutxiago) emateko denbora da\n",
    "\n",
    "$$ P (T_q \\leq t) = 1 - \\rho e^{-\\mu t (1-\\rho)} $$"
   ]
  },
  {
   "cell_type": "markdown",
   "metadata": {
    "id": "3ojHGnOXJr2x"
   },
   "source": [
    "### **M/M/1 ereduaren adibidea**"
   ]
  },
  {
   "cell_type": "markdown",
   "metadata": {
    "id": "CWdRJN3nJ3KK"
   },
   "source": [
    "Bezeroak telefono publiko batera doaz banaketa esponentzial bat jarraituz, 15 minuturo bezero bat iristen delarik (4 bezero orduko). Bestalde, dei bakoitzako batazbesteko iraupena 5 minutukoa da (12 bezero orduko), banaketa esponentziala jarraituz. Lortu:\n",
    "\n",
    "1. Bezero berri bat 10 minutu (1/6 ordu) baino gehiago itxaron beharreko probabilitatea, telefonora iritsi baino lehen.\n",
    "\n",
    "2. Ilaran 3 pertsona baino gehiago egoteko probabilitatea (guztira, 4 pertsona baino gehiago sisteman).\n",
    "\n",
    "3. Bezero batek bere deia bukatzeko 10 minutu (1/6 ordu) baino gehiago itxaron behar izateko probabilitatea.\n",
    "\n",
    "Lortu eta marraztu ezazu sisteman dauden bezero kopurua $n$ izateko probabilitatea $n\\in [0,10]$ tarterako."
   ]
  },
  {
   "cell_type": "code",
   "execution_count": 119,
   "metadata": {},
   "outputs": [],
   "source": [
    "import math\n",
    "import numpy as np\n",
    "import matplotlib.pyplot as plt"
   ]
  },
  {
   "cell_type": "markdown",
   "metadata": {},
   "source": [
    "Ilaran 1/6 ordu baino gehiago egoteko probabilitatea"
   ]
  },
  {
   "cell_type": "code",
   "execution_count": 125,
   "metadata": {},
   "outputs": [
    {
     "data": {
      "text/plain": [
       "0.08786571270524224"
      ]
     },
     "execution_count": 125,
     "metadata": {},
     "output_type": "execute_result"
    }
   ],
   "source": [
    "b = 4\n",
    "s = 12\n",
    "p = b/s\n",
    "p*math.exp(-s*(1/6)*(1-p))"
   ]
  },
  {
   "cell_type": "markdown",
   "metadata": {},
   "source": [
    "Ilaran 3 pertsona baino gehiago egoteko probabilitatea (guztira, 4 pertsona baino gehiago sisteman)."
   ]
  },
  {
   "cell_type": "code",
   "execution_count": 127,
   "metadata": {},
   "outputs": [
    {
     "data": {
      "text/plain": [
       "0.004115226337448558"
      ]
     },
     "execution_count": 127,
     "metadata": {},
     "output_type": "execute_result"
    }
   ],
   "source": [
    "p**(4+1)"
   ]
  },
  {
   "cell_type": "markdown",
   "metadata": {},
   "source": [
    "Bezero batek bere deia bukatzeko 10 minutu (1/6 ordu) baino gehiago itxaron behar izateko probabilitatea."
   ]
  },
  {
   "cell_type": "code",
   "execution_count": 129,
   "metadata": {},
   "outputs": [
    {
     "data": {
      "text/plain": [
       "0.2635971381157267"
      ]
     },
     "execution_count": 129,
     "metadata": {},
     "output_type": "execute_result"
    }
   ],
   "source": [
    "math.exp(-s*(1/6)*(1-p))"
   ]
  },
  {
   "cell_type": "markdown",
   "metadata": {},
   "source": [
    "Lortu eta marraztu ezazu sisteman dauden bezero kopurua n izateko probabilitatea n€[0,10] tarterako."
   ]
  },
  {
   "cell_type": "code",
   "execution_count": 154,
   "metadata": {},
   "outputs": [
    {
     "data": {
      "text/plain": [
       "[<matplotlib.lines.Line2D at 0x2046bd30830>]"
      ]
     },
     "execution_count": 154,
     "metadata": {},
     "output_type": "execute_result"
    },
    {
     "data": {
      "image/png": "[encoded data removed]",
      "text/plain": [
       "<Figure size 640x480 with 1 Axes>"
      ]
     },
     "metadata": {},
     "output_type": "display_data"
    }
   ],
   "source": [
    "x_data = [i for i in range(11)]\n",
    "p_n = [p**n*(1-p) for n in range(11)] #10 arte bada 11 jarri behar da\n",
    "np.array(x_data)\n",
    "np.array(p_n)\n",
    "\n",
    "fig, ax = plt.subplots()\n",
    "ax.set_xlabel(\"n\")\n",
    "ax.set_ylabel(\"p_n\")\n",
    "ax.plot(x_data, p_n,color=\"blue\",marker=\"o\",linestyle=\":\")"
   ]
  },
  {
   "cell_type": "markdown",
   "metadata": {
    "id": "Mbkd89DYKEKD"
   },
   "source": [
    "## **M/M/s eredua**"
   ]
  },
  {
   "cell_type": "markdown",
   "metadata": {
    "id": "wElrFl_rdsul"
   },
   "source": [
    "Eredu honetan $s$ zerbitzu-kanal edo zerbitzari ditugu. Ilara egonkorra izan dadin $\\rho^* < 1$ izan behar dugu, non $\\rho^* = \\frac{\\lambda}{s\\mu}$ den eta trafiko-intentsitate globala deritzen.\n",
    "\n",
    "Eredu honen ezaugarri nagusiak hauek dira:\n",
    "\n",
    "\\begin{align}\n",
    "P_0 &= \\dfrac{1}{\\dfrac{\\rho^s}{s!(1-\\rho^*)}+ \\displaystyle\\sum_{k=0}^{s-1} \\frac{\\rho^k}{k!} } \\\\[10pt]\n",
    "%\n",
    "P_n &= \\left\\lbrace\n",
    "\\begin{array}{l}\n",
    "P_0 \\dfrac{\\rho^n}{n!}, \\quad \\text{si} \\ 1 \\leq n \\leq s \\\\[5pt]\n",
    "(\\rho^\\ast)^{n-s} P_s , \\quad \\text{si} \\ n>s\n",
    "\\end{array}\n",
    "\\right. \\\\[10pt]\n",
    "%\n",
    "L&=\\rho + \\frac{\\rho^*}{(1-\\rho^*)^2} P_s \\\\[10pt]\n",
    "%\n",
    "L_q &= L - \\rho \\\\[10pt]\n",
    "%\n",
    "W_q &=  \\frac{P_s}{s\\mu (1-\\rho^*)^2} \\\\[10pt]\n",
    "%\n",
    "W &= W_q + \\frac{1}{\\mu}\n",
    "\\end{align}\n",
    "\n",
    "Erabili gabeko batezbesteko zerbitzari kopurua $s-\\rho$ izango da.\n",
    "\n",
    "Bestalde, ilara egin behar izateko probabilitatea, hau da, sisteman $s$ bezero edo gehiago aurkitzeko probabiltatea, ondorengo adierazpenaren araberakoa da (*Erlangen formula*):\n",
    "\n",
    "$$ P(N \\geq s) = \\frac{\\rho^s}{s!(1-\\rho^*)} P_0. $$\n",
    "\n",
    "Ilaran emango den itxarote-denbora, $T_q$, $t$ baino txikiagoa izateko probabiltatea hauxe dugu:\n",
    "\n",
    "$$ P(T_q \\leq t) = 1 - \\frac{e^{-\\mu t (s-\\rho)}}{1-\\rho^*} P_s. $$"
   ]
  },
  {
   "cell_type": "markdown",
   "metadata": {
    "id": "OI8rQVexgrPB"
   },
   "source": [
    "### **M/M/s ereduaren adibidea**"
   ]
  },
  {
   "cell_type": "markdown",
   "metadata": {
    "id": "fEkKXtv7gtdB"
   },
   "source": [
    "Autopista bateko peajean 5 zerbitzari automatiko daude, zeinen zerbitzu-denboren batezbestekoa minutuko batekoa den (60 bezero ordukoko tasa) eta banaketa espoentziala jarraitzen duen. Demagun ibilgailuen iritsierak banaketa esponentziala jarraitzen dutela, batezbeste 299 ibiligailu oruduko iristen direlarik. Beharrezkoa da beste bi zerbitzari instalatzea bezeroen itxarote denborak murrizteko eta euren iritzia hobetzeko?"
   ]
  },
  {
   "cell_type": "code",
   "execution_count": 171,
   "metadata": {},
   "outputs": [
    {
     "name": "stdout",
     "output_type": "stream",
     "text": [
      "0.0001290675835659393\n",
      "0.003305488288869833\n",
      "296.5022995116301\n",
      "0.9916464866609701\n"
     ]
    }
   ],
   "source": [
    "lamda = 299\n",
    "mu = 60\n",
    "s = 5\n",
    "p = lamda/mu\n",
    "p_ast = lamda/(s*mu)\n",
    "p0 = 1/((p**s/(math.factorial(s)*(1-p_ast))+(sum([p**i/math.factorial(i) for i in range(s)]))))\n",
    "print(p0)\n",
    "ps = p0*(p**s)/math.factorial(s)\n",
    "print(ps)\n",
    "lq = (p_ast/(1-p_ast)**2)*ps\n",
    "print(lq)\n",
    "wq = ps/(s*mu*(1-p_ast)**2)\n",
    "print(wq)"
   ]
  },
  {
   "cell_type": "markdown",
   "metadata": {},
   "source": [
    "Beraz 2 zerbitzari gehiago instalatzea komeni da"
   ]
  },
  {
   "cell_type": "markdown",
   "metadata": {
    "id": "6fuLg-m2unnN"
   },
   "source": [
    "## **M/G/1 eredua**"
   ]
  },
  {
   "cell_type": "markdown",
   "metadata": {
    "id": "H9AXOYwLusB1"
   },
   "source": [
    "Aurreko bi ereduak **Poisson-en ilarak** dira, izan ere heldueren arteko denborak eta\n",
    "zerbitzatuak izateko denborak banaketa esponentziala jarraitzen dute. Azken\n",
    "suposizio hau ez da egoera praktikoetara ondo doitzen, orokorrean errealitatean\n",
    "zerbitzatuak izateko denborak ez baitu banaketa esponentziala jarraitzen, batez ere\n",
    "bezeroen eskakizunak antzekoak direnean. Zoritxarrez, nahiz eta eredu batzuentzat\n",
    "emaitza erabilgarri batzuk lortu izan diren, banaketa ez-esponentzialak dituzten\n",
    "ilaren azterketa analitikoa askoz zailagoa da.\n",
    "\n",
    "M/G/1 ereduan, bezeroen iriste-denborak banaketa esponentziala jarraitzen dute, zerbitzu denborek edonolako banaketa jarraitzen dute, eta zerbitzari bakarra izango dugu. Hala ere, zerbitzu-denboren $1/\\mu$ batezbestekoa eta $\\sigma^2$ bariantza ezagutuz gero, orduan *egoera egonkorreko baldintza* eman ostean, $\\rho = \\lambda/\\mu < 1$, hurrengo emaitzak beteko dira:\n",
    "\n",
    "\\begin{align}\n",
    "P_0 &= 1 - \\rho \\\\[10pt]\n",
    "%\n",
    "L_q &= \\frac{\\lambda^2 \\sigma^2 + \\rho^2}{2(1-\\rho)}\n",
    "\\end{align}\n",
    "\n",
    "Azken adierazpenari Pollaczek-Kyntchine formula deritzo, eta ilara-teoriako emaitzarik garrantzitsuenetakoa da (M/G/1 ereduek praktikan duten aplikagarritasuna dela eta). Gainera, hauxe izango dugu:\n",
    "\\begin{align}\n",
    "L &= \\rho + L_q \\\\[10pt]\n",
    "%\n",
    "W_q &= \\frac{\\lambda  \\left( \\sigma^2 + \\mu^{-2} \\right)  }{2(1-\\rho)} \\\\[10pt]\n",
    "%\n",
    "W &= \\frac{1}{\\mu} + W_q\n",
    "\\end{align}\n",
    "\n",
    "Nabarmentzekoa da $\\sigma^2$ txikituz gero, aurreko balioak ere txikituko direla. Hortaz, zerbitzariaren aldakortasunak eragin handia izango du sistemaren gainean."
   ]
  },
  {
   "cell_type": "markdown",
   "metadata": {
    "id": "U0NDu9N_xFea"
   },
   "source": [
    "### **M/G/1 ereduaren adibidea**"
   ]
  },
  {
   "cell_type": "markdown",
   "metadata": {
    "id": "eyhWDbcRxHV0"
   },
   "source": [
    "Mediku batengana doazen gaixoak anbulatoriora Poisson-en banaketa jarraituz\n",
    "heltzen dira, orduko iriste-tasa 3 izanik. Medikuaren kontsulta-denboraren\n",
    "banaketak gaixo bakoitzeko 12 minutuko (0,2 orduko) batezbestekoa eta 24 minutuko (0,4 orduko) desbideratze tipikoa ditu. Batezbeste, zenbat denbora emango du gaixo batek anbulategian itxaroten kontsultara sartu aurretik? Zenbat denbora igaroko da berriro ere kalera atera arte? Ilararen luzeera aztertu ezazu bezeroen iriste-tasaren arabera; horretarako, marraz ezazu ilararen luzeera $\\lambda$-ren arabera adierazten duen grafiko bat $\\lambda \\in [0,4.5]$ tarterako."
   ]
  },
  {
   "cell_type": "code",
   "execution_count": 193,
   "metadata": {},
   "outputs": [
    {
     "name": "stdout",
     "output_type": "stream",
     "text": [
      "0.6\n",
      "Wq: 1.65\n",
      "W: 1.8499999999999999\n"
     ]
    }
   ],
   "source": [
    "lamda = 3\n",
    "mu = 1/0.2\n",
    "des_tip = 0.4\n",
    "p = lamda/mu\n",
    "print(p)\n",
    "Wq = lamda*(des_tip+mu**-2)/(2*(1-p))\n",
    "print(\"Wq: \" + str(Wq))\n",
    "W = 1/mu + Wq\n",
    "print(\"W: \" + str(W)) "
   ]
  },
  {
   "cell_type": "code",
   "execution_count": 201,
   "metadata": {},
   "outputs": [
    {
     "data": {
      "text/plain": [
       "[<matplotlib.lines.Line2D at 0x20471f106e0>]"
      ]
     },
     "execution_count": 201,
     "metadata": {},
     "output_type": "execute_result"
    },
    {
     "data": {
      "image/png": "[encoded data removed]",
      "text/plain": [
       "<Figure size 640x480 with 1 Axes>"
      ]
     },
     "metadata": {},
     "output_type": "display_data"
    }
   ],
   "source": [
    "xmin = 0\n",
    "xmax= 4.5\n",
    "puntuak=200\n",
    "\n",
    "x = np.linspace(xmin, xmax, puntuak) # Puntuak sortu xmin eta xmax artean \n",
    "y = x/mu # Funtzioa puntu guztietan ebaluatu\n",
    "\n",
    "fig, ax = plt.subplots()\n",
    "ax.set_xlabel(\"lamda\")\n",
    "ax.set_ylabel(\"ilararen luzera\")\n",
    "ax.plot(x, y)"
   ]
  }
 ],
 "metadata": {
  "colab": {
   "collapsed_sections": [
    "CSofKXIQEOdA",
    "Mbkd89DYKEKD",
    "6fuLg-m2unnN"
   ],
   "provenance": []
  },
  "kernelspec": {
   "display_name": "Python [conda env:base] *",
   "language": "python",
   "name": "conda-base-py"
  },
  "language_info": {
   "codemirror_mode": {
    "name": "ipython",
    "version": 3
   },
   "file_extension": ".py",
   "mimetype": "text/x-python",
   "name": "python",
   "nbconvert_exporter": "python",
   "pygments_lexer": "ipython3",
   "version": "3.12.7"
  }
 },
 "nbformat": 4,
 "nbformat_minor": 4
}
