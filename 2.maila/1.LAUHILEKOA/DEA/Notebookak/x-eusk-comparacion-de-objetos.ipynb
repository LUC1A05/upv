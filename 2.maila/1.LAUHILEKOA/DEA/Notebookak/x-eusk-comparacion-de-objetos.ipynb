{
 "cells": [
  {
   "cell_type": "markdown",
   "id": "ac36eb52-1ed4-404f-9606-99267dd004ac",
   "metadata": {},
   "source": [
    "# Objektuen konparaketa (== eta equals())"
   ]
  },
  {
   "cell_type": "code",
   "execution_count": null,
   "id": "7edecf91-0358-444f-85ad-b46eae528cfb",
   "metadata": {},
   "outputs": [],
   "source": [
    "public class Pertsona {\n",
    "  String ize;\n",
    "  String id;\n",
    "  int adina;\n",
    "    \n",
    "    public Pertsona (String izena, String dni, int urteak){\n",
    "      ize = izena;\n",
    "      id = dni;\n",
    "      adina = urteak;\n",
    "    }\n",
    "}"
   ]
  },
  {
   "cell_type": "code",
   "execution_count": null,
   "id": "4a19b2b0-3521-46f8-9d83-e6c88cb0d1fd",
   "metadata": {},
   "outputs": [],
   "source": [
    "Pertsona per1 = new Pertsona(\"ana\",  \"1234\", 20);\n",
    "Pertsona per2 = new Pertsona(\"ana\",  \"1234\", 20);\n",
    "Pertsona per3 = new Pertsona(\"ana\",  \"1234\", 40);\n",
    "Pertsona per4 = new Pertsona(\"juan\", \"7654\", 20);\n",
    "Pertsona per5 = per1;"
   ]
  },
  {
   "cell_type": "markdown",
   "id": "149fc99f-9149-4feb-9c89-7fec0a78644c",
   "metadata": {},
   "source": [
    "## Zer idatziko dute?"
   ]
  },
  {
   "cell_type": "code",
   "execution_count": null,
   "id": "a462dc9e-ac7b-4d36-b555-da93582a6689",
   "metadata": {},
   "outputs": [],
   "source": [
    "if (per1 == per2) System.out.println(\"Bai\");\n",
    "else System.out.println(\"Ez\");"
   ]
  },
  {
   "cell_type": "code",
   "execution_count": null,
   "id": "ed312a63-44d2-4b65-912b-0ad7c2d6eccf",
   "metadata": {},
   "outputs": [],
   "source": [
    "if (per1 == per3) System.out.println(\"Bai\");\n",
    "else System.out.println(\"Ez\");"
   ]
  },
  {
   "cell_type": "code",
   "execution_count": null,
   "id": "544627b2-dd92-4473-bcb1-d9989f6eacfd",
   "metadata": {},
   "outputs": [],
   "source": [
    "if (per1 == per4) System.out.println(\"Bai\");\n",
    "else System.out.println(\"Ez\");"
   ]
  },
  {
   "cell_type": "code",
   "execution_count": null,
   "id": "c494a492-ebec-4b54-a76f-d370751c31ef",
   "metadata": {},
   "outputs": [],
   "source": [
    "if (per1 == per5) System.out.println(\"Bai\");\n",
    "else System.out.println(\"Ez\");"
   ]
  },
  {
   "cell_type": "code",
   "execution_count": null,
   "id": "5e126086-d881-45ca-b570-e77f601808fe",
   "metadata": {},
   "outputs": [],
   "source": [
    "if (per1.equals(per2)) System.out.println(\"Bai\");\n",
    "else System.out.println(\"Ez\");"
   ]
  },
  {
   "cell_type": "code",
   "execution_count": null,
   "id": "d7310e6e-7357-410c-84db-87cb45b14f32",
   "metadata": {},
   "outputs": [],
   "source": [
    "if (per1.equals(per3)) System.out.println(\"Bai\");\n",
    "else System.out.println(\"Ez\");"
   ]
  },
  {
   "cell_type": "markdown",
   "id": "8c4d0905-680e-40e0-911c-2722d005bcb4",
   "metadata": {},
   "source": [
    "## Beste adibide bat"
   ]
  },
  {
   "cell_type": "code",
   "execution_count": null,
   "id": "de37f8a0-d789-4c8e-a85b-bd07bab6f65b",
   "metadata": {},
   "outputs": [],
   "source": [
    "ArrayList<Pertsona> lista = new ArrayList<Pertsona>();\n",
    "\n",
    "lista.add(per1);\n",
    "lista.add(per2);\n",
    "lista.add(per3);\n",
    "lista.add(per4);"
   ]
  },
  {
   "cell_type": "markdown",
   "id": "680dd18a-8683-4884-8543-acd879e27c34",
   "metadata": {},
   "source": [
    "Zer idatziko du kode-zati honek?"
   ]
  },
  {
   "cell_type": "code",
   "execution_count": null,
   "id": "1f210945-d664-49a9-9432-7b776b0fe357",
   "metadata": {},
   "outputs": [],
   "source": [
    "Pertsona per44 = new Pertsona(\"ana\", \"1234\", 20); // \"per1\"-en informazio berdina\n",
    "\n",
    "if (lista.contains(per44)) System.out.println(\"Bai\");\n",
    "else System.out.println(\"Ez\");\n"
   ]
  },
  {
   "cell_type": "markdown",
   "id": "f7fa6106-fe6a-427e-a2e9-c01be411edcf",
   "metadata": {},
   "source": [
    "## Arazoa:\n",
    "* Ez dugu definitu bi pertsona konparatzeko metodorik\n",
    "* Kasu horretan, berdinketaren konparaketa Object klasetik heredatuko da\n",
    "* Object klasean, bi objektu berdinak dira erreferentzia bera direnean (==)\n",
    "* Collection motako klaseek (adib. ArrayList), equals() erabiltzen dute beren osagaiekin. Ez badugu definitu equals() Pertsona klasean, Object klaseko equals() deituko da, eta honek == erabiliko du"
   ]
  },
  {
   "cell_type": "markdown",
   "id": "3363df9b-e699-4282-b422-ac2611a91393",
   "metadata": {},
   "source": [
    "## Soluzioa: bi pertsona konparatzeko equals() birdefinitu"
   ]
  },
  {
   "cell_type": "code",
   "execution_count": null,
   "id": "7cb99811-829d-4fb8-a3d6-707c4edaca0c",
   "metadata": {},
   "outputs": [],
   "source": [
    "public class Pertsona {\n",
    "  String ize;\n",
    "  String id;\n",
    "  int adina;\n",
    "    \n",
    "    public Pertsona (String izena, String dni, int urteak){\n",
    "      ize = izena;\n",
    "      id = dni;\n",
    "      adina = urteak;\n",
    "    }\n",
    "    \n",
    "    @Override\n",
    "    public boolean equals(Object o){ // overwrites Object.equals()\n",
    "    // Bi pertsona berdinak dira izena eta id bera baldin badute\n",
    "          if (this == o) return true;\n",
    "          if (o == null || getClass() != o.getClass()) return false;\n",
    "          Pertsona pertsonaBat = (Pertsona) o;\n",
    "          if (this.ize.equals(pertsonaBat.ize) && this.id.equals(pertsonaBat.id)) \n",
    "            // Oinarrizko klaseek (int, char, String) equals metodoa definituta dute\n",
    "            return true;\n",
    "          else return false;\n",
    "    }\n",
    "}"
   ]
  },
  {
   "cell_type": "markdown",
   "id": "9d40ecf2-382a-49bc-9ee1-f36c5382c017",
   "metadata": {},
   "source": [
    "## Berriro probatuko dugu"
   ]
  },
  {
   "cell_type": "code",
   "execution_count": null,
   "id": "8416a320-1785-4b18-91c0-a1922e1e4027",
   "metadata": {},
   "outputs": [],
   "source": [
    "Pertsona per1 = new Pertsona(\"ana\",  \"1234\", 20);\n",
    "Pertsona per2 = new Pertsona(\"ana\",  \"1234\", 20);\n",
    "Pertsona per3 = new Pertsona(\"ana\",  \"1234\", 40);\n",
    "Pertsona per4 = new Pertsona(\"juan\", \"7654\", 20);\n",
    "Pertsona per5 = per1;"
   ]
  },
  {
   "cell_type": "code",
   "execution_count": null,
   "id": "894834af-a092-4581-b6f0-fad1d0257641",
   "metadata": {},
   "outputs": [],
   "source": [
    "if (per1.equals(per2)) System.out.println(\"Bai\");\n",
    "else System.out.println(\"Ez\");"
   ]
  },
  {
   "cell_type": "code",
   "execution_count": null,
   "id": "acc2046e-d67e-4117-9ec5-42f44873759f",
   "metadata": {},
   "outputs": [],
   "source": [
    "if (per1.equals(per3)) System.out.println(\"Bai\");\n",
    "else System.out.println(\"Ez\");"
   ]
  },
  {
   "cell_type": "code",
   "execution_count": null,
   "id": "72b7c237-7e00-41a7-b50f-c9591bc0b4fb",
   "metadata": {},
   "outputs": [],
   "source": [
    "if (per1.equals(per4)) System.out.println(\"Bai\");\n",
    "else System.out.println(\"Ez\");"
   ]
  },
  {
   "cell_type": "code",
   "execution_count": null,
   "id": "e9ee300c-296f-4a24-9a8e-ec90d3a450b8",
   "metadata": {},
   "outputs": [],
   "source": [
    "if (per1.equals(per5)) System.out.println(\"Bai\");\n",
    "else System.out.println(\"Ez\");"
   ]
  },
  {
   "cell_type": "markdown",
   "id": "f24c78b6-9fe4-4ef2-afa5-b2a3943058d2",
   "metadata": {},
   "source": [
    "ArrayList erabiliz gero:"
   ]
  },
  {
   "cell_type": "code",
   "execution_count": null,
   "id": "e25fc833-d60b-4326-b182-22be1404cb57",
   "metadata": {},
   "outputs": [],
   "source": [
    "ArrayList<Pertsona> lista = new ArrayList<Pertsona>();\n",
    "\n",
    "lista.add(per1);\n",
    "lista.add(per2);\n",
    "lista.add(per3);\n",
    "lista.add(per4);\n",
    "\n",
    "Pertsona per44 = new Pertsona(\"ana\",  \"1234\", 20); // \"per1\"-en berdina\n",
    "\n",
    "if (lista.contains(per44)) System.out.println(\"Bai\");\n",
    "else System.out.println(\"Ez\");"
   ]
  },
  {
   "cell_type": "markdown",
   "id": "90c523b1-9723-4e6b-8f4f-e927b89c4517",
   "metadata": {},
   "source": [
    "## Ariketa: nola definitu konparaketarako metodo bat klase honetarako:"
   ]
  },
  {
   "cell_type": "code",
   "execution_count": null,
   "id": "d035d123-785f-406d-8b44-56c9764dbcc4",
   "metadata": {},
   "outputs": [],
   "source": [
    "public class Lista {\n",
    "  String[] taula;\n",
    "    \n",
    "    public Lista (String[] array){\n",
    "      taula = array;\n",
    "    }\n",
    "    \n",
    "    // Osatu!\n",
    "    public boolean equals(Lista besteLista){ // overwrites Object.equals()\n",
    "        // Bi zerrenda berdinak dira osagai berdinak dituztenean (ordena ere berdina izan behar da)\n",
    "        if (this == besteLista) \n",
    "            return true;\n",
    "        else return false;\n",
    "    }\n",
    "}"
   ]
  },
  {
   "cell_type": "code",
   "execution_count": null,
   "id": "770f310a-be9a-4216-bf0b-0bef6a293860",
   "metadata": {},
   "outputs": [],
   "source": [
    "String[] t1 = {\"ana\", \"amaia\", \"peio\"};\n",
    "String[] t2 = {\"ana\", \"amaia\", \"peio\"};\n",
    "String[] t3 = {\"ana\", \"luis\", \"peio\"};\n",
    "String[] t4 = {\"ana\", \"amaia\", \"peio\", \"ander\"};\n",
    "String[] t5 = {\"peio\", \"ana\", \"amaia\"};\n",
    "\n",
    "Lista lista1 = new Lista(t1);\n",
    "Lista lista2 = new Lista(t2);\n",
    "Lista lista3 = new Lista(t3);\n",
    "Lista lista4 = new Lista(t4);\n",
    "Lista lista5 = new Lista(t5);"
   ]
  },
  {
   "cell_type": "code",
   "execution_count": null,
   "id": "74be7c9b-066e-4801-85e2-3912d0006387",
   "metadata": {},
   "outputs": [],
   "source": [
    "if (lista1.equals(lista2)) System.out.println(\"Bai\");\n",
    "else System.out.println(\"Ez\");"
   ]
  },
  {
   "cell_type": "code",
   "execution_count": null,
   "id": "a576b2b9-847c-4e1a-901b-f00db4ff4473",
   "metadata": {},
   "outputs": [],
   "source": [
    "if (lista1.equals(lista3)) System.out.println(\"Bai\");\n",
    "else System.out.println(\"Ez\");"
   ]
  },
  {
   "cell_type": "code",
   "execution_count": null,
   "id": "d840bb6e-2f26-4dc9-a0db-d202acdaa9db",
   "metadata": {},
   "outputs": [],
   "source": [
    "if (lista1.equals(lista4)) System.out.println(\"Bai\");\n",
    "else System.out.println(\"Ez\");"
   ]
  },
  {
   "cell_type": "code",
   "execution_count": null,
   "id": "1a52f70e-fc49-452b-ad88-563a731c81ab",
   "metadata": {},
   "outputs": [],
   "source": [
    "if (lista1.equals(lista5)) System.out.println(\"Bai\");\n",
    "else System.out.println(\"Ez\");"
   ]
  },
  {
   "cell_type": "markdown",
   "id": "1d5915f2-2420-43ce-b514-6243da9620a2",
   "metadata": {},
   "source": [
    "Ariketa. Zerrenden arteko berdintasuna konparatzeko beste metodo bat egin: List amotako bi objektu berdinak dira osagai berdinak dituztenean eta ordena ere berdina denean"
   ]
  }
 ],
 "metadata": {
  "kernelspec": {
   "display_name": "Java",
   "language": "java",
   "name": "java"
  },
  "language_info": {
   "codemirror_mode": "java",
   "file_extension": ".jshell",
   "mimetype": "text/x-java-source",
   "name": "Java",
   "pygments_lexer": "java",
   "version": "11.0.24+8-post-Ubuntu-1ubuntu320.04"
  }
 },
 "nbformat": 4,
 "nbformat_minor": 5
}
