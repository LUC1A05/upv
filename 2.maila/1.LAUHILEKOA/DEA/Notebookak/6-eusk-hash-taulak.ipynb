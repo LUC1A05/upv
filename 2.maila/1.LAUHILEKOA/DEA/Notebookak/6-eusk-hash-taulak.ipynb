{
 "cells": [
  {
   "cell_type": "markdown",
   "id": "0b3693ef-87ea-471c-bc37-a6165d31bd48",
   "metadata": {
    "tags": []
   },
   "source": [
    "# hash taulen erabilera"
   ]
  },
  {
   "cell_type": "markdown",
   "id": "ff4ef65f-ddaa-4280-a4bf-a8b8364a00b4",
   "metadata": {},
   "source": [
    "## Erazagupena"
   ]
  },
  {
   "cell_type": "code",
   "execution_count": 1,
   "id": "98bc4cf1-3e7a-4a0f-890f-311de83359be",
   "metadata": {},
   "outputs": [
    {
     "ename": "SyntaxError",
     "evalue": "invalid syntax (2042425320.py, line 1)",
     "output_type": "error",
     "traceback": [
      "\u001b[1;36m  Cell \u001b[1;32mIn[1], line 1\u001b[1;36m\u001b[0m\n\u001b[1;33m    // Gakoa: izena, Balioa: adina\u001b[0m\n\u001b[1;37m    ^\u001b[0m\n\u001b[1;31mSyntaxError\u001b[0m\u001b[1;31m:\u001b[0m invalid syntax\n"
     ]
    }
   ],
   "source": [
    "// Gakoa: izena, Balioa: adina\n",
    "// Adibideak: (Jon, 18), (Ana, 23)...\n",
    "\n",
    "HashMap<String, Integer> pertsonak; "
   ]
  },
  {
   "cell_type": "markdown",
   "id": "dc7643a8-88b9-4f4f-9c02-61933ca8173f",
   "metadata": {},
   "source": [
    "## Objektuaren sorrera"
   ]
  },
  {
   "cell_type": "code",
   "execution_count": 5,
   "id": "692601b1-c43c-47ae-8b33-d2f3a642318f",
   "metadata": {
    "vscode": {
     "languageId": "javascript"
    }
   },
   "outputs": [
    {
     "ename": "SyntaxError",
     "evalue": "invalid syntax (3687567576.py, line 1)",
     "output_type": "error",
     "traceback": [
      "\u001b[1;36m  Cell \u001b[1;32mIn[5], line 1\u001b[1;36m\u001b[0m\n\u001b[1;33m    pertsonak = new HashMap<String, Integer>();\u001b[0m\n\u001b[1;37m                    ^\u001b[0m\n\u001b[1;31mSyntaxError\u001b[0m\u001b[1;31m:\u001b[0m invalid syntax\n"
     ]
    }
   ],
   "source": [
    "pertsonak = new HashMap<String, Integer>(); "
   ]
  },
  {
   "cell_type": "markdown",
   "id": "846e855a-6817-4170-8b86-f80e93c9e16b",
   "metadata": {},
   "source": [
    "## Elementuen txertaketa (**put**)"
   ]
  },
  {
   "cell_type": "code",
   "execution_count": 6,
   "id": "4b01303a-307a-4aa5-85f0-1886a4125329",
   "metadata": {
    "vscode": {
     "languageId": "javascript"
    }
   },
   "outputs": [
    {
     "ename": "NameError",
     "evalue": "name 'pertsonak' is not defined",
     "output_type": "error",
     "traceback": [
      "\u001b[1;31m---------------------------------------------------------------------------\u001b[0m",
      "\u001b[1;31mNameError\u001b[0m                                 Traceback (most recent call last)",
      "Cell \u001b[1;32mIn[6], line 1\u001b[0m\n\u001b[1;32m----> 1\u001b[0m \u001b[43mpertsonak\u001b[49m\u001b[38;5;241m.\u001b[39mput(\u001b[38;5;124m\"\u001b[39m\u001b[38;5;124mAna\u001b[39m\u001b[38;5;124m\"\u001b[39m, \u001b[38;5;241m19\u001b[39m);\n\u001b[0;32m      2\u001b[0m pertsonak\u001b[38;5;241m.\u001b[39mput(\u001b[38;5;124m\"\u001b[39m\u001b[38;5;124mJon\u001b[39m\u001b[38;5;124m\"\u001b[39m, \u001b[38;5;241m22\u001b[39m);\n\u001b[0;32m      3\u001b[0m pertsonak\u001b[38;5;241m.\u001b[39mput(\u001b[38;5;124m\"\u001b[39m\u001b[38;5;124mAmaia\u001b[39m\u001b[38;5;124m\"\u001b[39m, \u001b[38;5;241m9\u001b[39m);\n",
      "\u001b[1;31mNameError\u001b[0m: name 'pertsonak' is not defined"
     ]
    }
   ],
   "source": [
    "pertsonak.put(\"Ana\", 19);\n",
    "pertsonak.put(\"Jon\", 22);\n",
    "pertsonak.put(\"Amaia\", 9);"
   ]
  },
  {
   "cell_type": "markdown",
   "id": "cd015a0c-e10e-4633-9951-5d212fbce6cf",
   "metadata": {},
   "source": [
    "## Begiratu ea gako bat badagoen (**containsKey**):"
   ]
  },
  {
   "cell_type": "code",
   "execution_count": null,
   "id": "7ae96933-9d84-4acc-a66e-7e997ab4fdb2",
   "metadata": {},
   "outputs": [],
   "source": [
    "if (pertsonak.containsKey(\"Jon\")) System.out.println(\"Bai\");\n",
    "else System.out.println(\"Ez\");"
   ]
  },
  {
   "cell_type": "code",
   "execution_count": null,
   "id": "997bf4aa-0a69-4f99-b446-b38ddf313f67",
   "metadata": {},
   "outputs": [],
   "source": [
    "if (pertsonak.containsKey(\"Mikel\")) System.out.println(\"Bai\");\n",
    "else System.out.println(\"Ez\");"
   ]
  },
  {
   "cell_type": "markdown",
   "id": "06764623-4804-4989-b353-db0d43505aeb",
   "metadata": {},
   "source": [
    "## Elementu baten balioa lortu gakoaren bidez (**get**):"
   ]
  },
  {
   "cell_type": "code",
   "execution_count": null,
   "id": "b49f5c3c-8601-4b4f-bcd7-e63794269b09",
   "metadata": {},
   "outputs": [],
   "source": [
    "String izena = \"Ana\";\n",
    "int adina = pertsonak.get(izena);\n",
    "System.out.println(izena + \"ren adina \" + adina + \" da\");"
   ]
  },
  {
   "cell_type": "code",
   "execution_count": null,
   "id": "46ab0618-f217-4d0a-8266-e8f0ebed0374",
   "metadata": {},
   "outputs": [],
   "source": [
    "int adina = pertsonak.get(\"Mikel\");\n",
    "System.out.println(\"Mikelen adina \" + adina + \" da\");"
   ]
  },
  {
   "cell_type": "markdown",
   "id": "4fabb813-57e4-4704-94ee-c77724daf26c",
   "metadata": {},
   "source": [
    "## Elementu bat ezabatu gakoaren bidez (**remove**):"
   ]
  },
  {
   "cell_type": "code",
   "execution_count": null,
   "id": "bfc86418-dc51-456a-9824-fc783bd59b72",
   "metadata": {},
   "outputs": [],
   "source": [
    "pertsonak.remove(\"Ana\");\n",
    "\n",
    "if (pertsonak.containsKey(\"Ana\")) System.out.println(\"Bai\");\n",
    "else System.out.println(\"Ez\");"
   ]
  },
  {
   "cell_type": "markdown",
   "id": "5c3e4136-fe6a-4e74-95c6-fc42ec84d77b",
   "metadata": {},
   "source": [
    "## Zenbat elementu daude? (**size**):"
   ]
  },
  {
   "cell_type": "code",
   "execution_count": null,
   "id": "c78b9c5c-858b-4ac2-9c2b-d96125dcd97b",
   "metadata": {},
   "outputs": [],
   "source": [
    "System.out.println(pertsonak.size());"
   ]
  },
  {
   "cell_type": "markdown",
   "id": "63f5a8fe-55a2-4d69-bd5b-a25727f3c219",
   "metadata": {},
   "source": [
    "## elementu baten balioaren eguneraketa (**put**):"
   ]
  },
  {
   "cell_type": "code",
   "execution_count": null,
   "id": "75d2386b-523f-4835-86d0-d8b351d53f20",
   "metadata": {},
   "outputs": [],
   "source": [
    "pertsonak.put(\"Luis\", 59); // Elementu berria gehitu\n",
    "\n",
    "pertsonak.put(\"Luis\", 100); // Luisen adina aldatu da\n",
    "System.out.println(\"Luisen adina \" + pertsonak.get(\"Luis\") + \" da\");"
   ]
  },
  {
   "cell_type": "markdown",
   "id": "34b901d8-3d1b-450d-a0aa-57bf25f91271",
   "metadata": {},
   "source": [
    "## Ariketa: Amaiak urteak bete ditu eta bere adina eguneratu nahi dugu"
   ]
  },
  {
   "cell_type": "code",
   "execution_count": null,
   "id": "c00ab9ac-76f8-486e-b413-38db1e315e8b",
   "metadata": {},
   "outputs": [],
   "source": [
    "pertsonak.put(\"Amaia\", pertsonak.get(\"Amaia\") + 1); // Lehengo balioa bueltatzen du"
   ]
  },
  {
   "cell_type": "code",
   "execution_count": null,
   "id": "43079e7f-6c99-4acd-9f79-81725432a558",
   "metadata": {},
   "outputs": [],
   "source": [
    "int adina = pertsonak.get(\"Amaia\");\n",
    "System.out.println(\"Amaiaren adina \" + adina + \" da\");"
   ]
  },
  {
   "cell_type": "markdown",
   "id": "1ce00a0f-cd34-4173-9a7e-dfd878a6d7dc",
   "metadata": {},
   "source": [
    "## Gako konposatuak\n",
    "* equals() eta hashCode() birdefinitu behar dira\n",
    "* Hor esango dira zeintzuk diren gako bakarraren osagaiak"
   ]
  },
  {
   "cell_type": "code",
   "execution_count": null,
   "id": "00e26f1f-acb0-4836-a904-72a33e841f9c",
   "metadata": {},
   "outputs": [],
   "source": [
    "public class Pertsona {\n",
    "   String izena;\n",
    "   String abizenak;\n",
    "   String id;\n",
    "   String helbidea;\n",
    "\n",
    "   // constructora\n",
    "   public Pertsona(String ize, String ab, String iD, String helb){\n",
    "     this.izena = ize;\n",
    "     this.abizenak = ab;\n",
    "     this.id = iD;\n",
    "     this.helbidea = helb;\n",
    "   }\n",
    "\n",
    "   // equals() eta hashcode() metodoak modu automatikoan sortu daitezke Eclipse edo IntelliJ-rekin\n",
    "   //    (Alt + Insert edo saguaren eskuineko botoia sakatuz, eta gakoaren parte diren eremuak aukeratuta)\n",
    "   @Override\n",
    "   public boolean equals(Object o) {\n",
    "     if (this == o) return true;\n",
    "        if (o == null || getClass() != o.getClass()) return false;\n",
    "        Pertsona person = (Pertsona) o;\n",
    "        return Objects.equals(izena, person.izena) && Objects.equals(abizenak, person.abizenak) && Objects.equals(id, person.id);\n",
    "   }\n",
    "\n",
    "   @Override\n",
    "   public int hashCode() {\n",
    "     return Objects.hash(izena, abizenak, id);\n",
    "   }\n",
    "    \n",
    "   public String toString(){\n",
    "       return (this.izena + \" \" + this.abizenak + \" (ID: \" + this.id + \", Helbidea: \" + this.helbidea + \")\");\n",
    "   }\n",
    "}"
   ]
  },
  {
   "cell_type": "code",
   "execution_count": null,
   "id": "0ede1b4a-6431-496e-95a1-022dbf1916eb",
   "metadata": {},
   "outputs": [],
   "source": [
    "HashMap<Pertsona, Integer> tabla = new HashMap<Pertsona, Integer>(); // Por cada persona guarda su edad"
   ]
  },
  {
   "cell_type": "code",
   "execution_count": null,
   "id": "a071d710-e581-46c9-9393-8d962867619d",
   "metadata": {},
   "outputs": [],
   "source": [
    "Pertsona per1 = new Pertsona(\"Jon\",   \"Perez\", \"3333\", \"XXX kalea, 1\");\n",
    "Pertsona per2 = new Pertsona(\"Ana\",   \"Egia\",  \"2222\", \"WWW kalea, 1\");\n",
    "Pertsona per3 = new Pertsona(\"Amaia\", \"Plaza\", \"1111\", \"ZZZ kalea, 1\");\n",
    "Pertsona per4 = new Pertsona(\"Jon\",   \"Perez\", \"8888\", \"YYY kalea, 1\");\n",
    "\n",
    "tabla.put(per1, 22);\n",
    "tabla.put(per2, 55);\n",
    "tabla.put(per3, 33);\n",
    "tabla.put(per4, 47);"
   ]
  },
  {
   "cell_type": "code",
   "execution_count": null,
   "id": "ac710874-c214-4dbc-b7ee-3f74ae3a7e3a",
   "metadata": {},
   "outputs": [],
   "source": [
    "System.out.println(per1.toString() + \" elementuaren adina \" + tabla.get(per1) + \" da\");\n",
    "System.out.println(per2.toString() + \" elementuaren adina \" + tabla.get(per2) + \" da\");\n",
    "System.out.println(per3.toString() + \" elementuaren adina \" + tabla.get(per3) + \" da\");\n",
    "System.out.println(per4.toString() + \" elementuaren adina \" + tabla.get(per4) + \" da\");"
   ]
  },
  {
   "cell_type": "code",
   "execution_count": null,
   "id": "c323284c-d2e6-41e1-bc35-e6ac52571cf9",
   "metadata": {},
   "outputs": [],
   "source": []
  },
  {
   "cell_type": "code",
   "execution_count": null,
   "id": "e5dcdddb-a762-46fd-a376-2c5ad1563a46",
   "metadata": {},
   "outputs": [],
   "source": []
  }
 ],
 "metadata": {
  "kernelspec": {
   "display_name": "Python 3",
   "language": "python",
   "name": "python3"
  },
  "language_info": {
   "codemirror_mode": {
    "name": "ipython",
    "version": 3
   },
   "file_extension": ".py",
   "mimetype": "text/x-python",
   "name": "python",
   "nbconvert_exporter": "python",
   "pygments_lexer": "ipython3",
   "version": "3.11.9"
  }
 },
 "nbformat": 4,
 "nbformat_minor": 5
}
