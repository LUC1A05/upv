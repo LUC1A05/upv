{
 "cells": [
  {
   "cell_type": "markdown",
   "metadata": {},
   "source": [
    "## Adierzpen erregularren erabilera [tutorial baten atzipena](https://docs.oracle.com/javase/tutorial/essential/regex/index.html)\n",
    "\n",
    "*   Oinarrizko adierazpen erregularrak: \"abc\", \"a123 , 456\""
   ]
  },
  {
   "cell_type": "code",
   "execution_count": null,
   "metadata": {
    "id": "m3SwP_ZmMm6M"
   },
   "outputs": [],
   "source": [
    "String linea = \"bcd\";\n",
    "Boolean ema = linea.matches(\"bcd\");\n",
    "System.out.println(ema);\n",
    "\n",
    "if (linea.matches(\"bc\")) System.out.println(\"Bai\");\n",
    "else System.out.println(\"Ez\");"
   ]
  },
  {
   "cell_type": "markdown",
   "metadata": {
    "id": "YHETqFN-NY0i"
   },
   "source": [
    "### Karaktere bereziak:\n",
    "* . edozein karaktere adierazten du"
   ]
  },
  {
   "cell_type": "code",
   "execution_count": null,
   "metadata": {
    "id": "q7ieyHVWM-yC"
   },
   "outputs": [],
   "source": [
    "String linea = \"abcde\";\n",
    "if (linea.matches(\".....\")) System.out.println(\"Bai\");\n",
    "else System.out.println(\"Ez\");\n",
    "\n",
    "String linea = \"hola.adios\";\n",
    "if (linea.matches(\"hola\\\\.adios\")) System.out.println(\"Bai\");\n",
    "else System.out.println(\"Ez\");\n",
    "\n",
    "String linea = \"hola%adios\";\n",
    "if (linea.matches(\"hola.adios\")) System.out.println(\"Bai\");\n",
    "else System.out.println(\"Ez\");"
   ]
  },
  {
   "cell_type": "markdown",
   "metadata": {
    "id": "Gl1rwfPTN-JY"
   },
   "source": [
    "* ? aukerazkoa\n",
    "* \\+ errepikapena behin edo gehiagotan\n",
    "* \\* errepikapena zero edo gehiagotan"
   ]
  },
  {
   "cell_type": "code",
   "execution_count": null,
   "metadata": {
    "id": "DB7cyekNOSFl"
   },
   "outputs": [],
   "source": [
    "String linea = \"abcde\";\n",
    "if (linea.matches(\"bcd\")) System.out.println(\"Bai\");\n",
    "else System.out.println(\"Ez\");\n",
    "\n",
    "String linea = \"abbbbbbc\";\n",
    "if (linea.matches(\"ab+c\")) System.out.println(\"Bai\");\n",
    "else System.out.println(\"Ez\");\n",
    "\n",
    "String linea = \"abcdbcdbcdc\";\n",
    "if (linea.matches(\"a(bcd)+c\")) System.out.println(\"Bai\");\n",
    "else System.out.println(\"Ez\");\n",
    "\n",
    "String linea = \"abcde\";\n",
    "if (linea.matches(\"abcx?de\")) System.out.println(\"Bai\");\n",
    "else System.out.println(\"Ez\");\n",
    "\n",
    "String linea = \"bcdab\";\n",
    "if (linea.matches(\"(.+)?bcd.+?\")) System.out.println(\"Bai\");\n",
    "else System.out.println(\"Ez\");"
   ]
  },
  {
   "cell_type": "markdown",
   "metadata": {
    "id": "1GjFtPAVO3iA"
   },
   "source": [
    "* \\[aeiou\\] bokal bat adierazten du. Bere baliokidea: (a|e|i|o|u)\n",
    "* \\[13579\\] digitu bakoitia adierazten du\n",
    "* \\[a-z\\] rletra xehe bat adierazten du\n",
    "* \\[A-Z\\] letra larri bat adierazten du\n",
    "* \\[0-9\\] digitu bat adierazten du\n",
    "\n",
    "* \\[0-9\\]+ digituen sekuentzia bat adierazten du (gutxienez digitu bat)\n",
    "* \\[a-zA-Z\\]+ letra larri eta/edo xeheak dituen hitza adierazten du\n",
    "\n",
    "* \\[0-9\\] honela laburtu daiteke: \\\\d\n",
    "* \\[a-zA-Z_\\] honela laburtu daiteke: \\\\w\n",
    "* \\\\s zuriunea edo tabuladorea\n",
    "* \\\\t tabuladore bat\n",
    "\n",
    "* \\\\w\\* identifikatzaileak: casa, CASA, CasA, cont123, cont_123, ..."
   ]
  },
  {
   "cell_type": "code",
   "execution_count": null,
   "metadata": {
    "id": "6VeLXZm4NdFa"
   },
   "outputs": [],
   "source": [
    "String linea = \"4\";\n",
    "if (linea.matches(\"\\\\w\")) System.out.println(\"Bai\");\n",
    "else System.out.println(\"Ez\");\n",
    "\n",
    "String linea = \"abcde   gggh1re3   \";\n",
    "if (linea.matches(\"(\\\\w+\\\\s+)+\")) System.out.println(\"Bai\");\n",
    "else System.out.println(\"Ez\");"
   ]
  },
  {
   "cell_type": "markdown",
   "metadata": {
    "id": "w_CPfQrcHfND"
   },
   "source": [
    "### Adibide 1: \"zatitu\" (split) string bat adierazpen erregular baten arabera:\n"
   ]
  },
  {
   "cell_type": "code",
   "execution_count": null,
   "metadata": {
    "id": "-k8qermlHfNH"
   },
   "outputs": [],
   "source": [
    "String lerroa = \"18 ---> 1369678 ###      1430007 ### 2016332\";\n",
    "String lerroa2 = \"178 ---> 678 ###   4307 ### 15886\";\n",
    "\n",
    "String datuak[] = lerroa.split(\" ---> \");\n",
    "for (String s: datuak) System.out.println(s);\n"
   ]
  },
  {
   "cell_type": "code",
   "execution_count": null,
   "metadata": {
    "id": "Uxutq30tNEtW"
   },
   "outputs": [],
   "source": [
    "String lerroa = \"1:0-100.com.cn\";\n",
    "String[] datuak = lerroa.split(\":\");\n",
    "System.out.println(datos[1]);"
   ]
  },
  {
   "cell_type": "markdown",
   "metadata": {
    "id": "T4MgtiV2HfNR"
   },
   "source": [
    "### Adibide 2"
   ]
  },
  {
   "cell_type": "code",
   "execution_count": null,
   "metadata": {
    "id": "xOvymPPyHfNT"
   },
   "outputs": [],
   "source": [
    "String lerroa = \"12:0-3-6.com\";\n",
    "String lerroa2 = \"45646 ### 464654 ### 46513 ### 41532\";\n",
    "\n",
    "String[] datuak = lerroa.split(\":\");\n",
    "String[] datuak2 = lerroa2.split(\"\\\\s+###\\\\s+\");\n",
    "\n",
    "\n",
    "for (String s: datuak) System.out.println(s);\n",
    "System.out.println();\n",
    "\n",
    "for (String s: datuak2) System.out.println(s);\n"
   ]
  },
  {
   "cell_type": "markdown",
   "metadata": {
    "id": "prIupn8iMAvv"
   },
   "source": [
    "### Adibide 3: \n",
    "contains metodoa: *public boolean String.contains(CharSequence substring)*\n",
    "\n",
    "Zer idatziko du ondorengo kodeak?"
   ]
  },
  {
   "cell_type": "code",
   "execution_count": null,
   "metadata": {
    "id": "rVo3o2OnL1uv"
   },
   "outputs": [],
   "source": [
    "String lerroa = \"abc54321ddd555555eee33ff\";\n",
    "if (lerroa.contains(\"1dd\")) System.out.println(\"Bai\");\n",
    "else System.out.println(\"Ez\");"
   ]
  },
  {
   "cell_type": "markdown",
   "metadata": {
    "id": "ZUWUxEeJLrvc"
   },
   "source": [
    "### Adibide 4: \n",
    "matches metodoa: *public boolean matches(String regex)*\n",
    "\n",
    "Zer idatziko du ondorengo kodeak?"
   ]
  },
  {
   "cell_type": "code",
   "execution_count": null,
   "metadata": {
    "id": "NYQoADVOLqda"
   },
   "outputs": [],
   "source": [
    "String lerroa = \"abcs3554ddd5eee3ff\";\n",
    "if (lerroa.matches(\".*3\\\\d+d+.*\")) System.out.println(\"Bai\");\n",
    "else System.out.println(\"Ez\");"
   ]
  }
 ],
 "metadata": {
  "colab": {
   "private_outputs": true,
   "provenance": []
  },
  "kernelspec": {
   "display_name": "Java",
   "language": "java",
   "name": "java"
  },
  "language_info": {
   "codemirror_mode": "java",
   "file_extension": ".jshell",
   "mimetype": "text/x-java-source",
   "name": "Java",
   "pygments_lexer": "java",
   "version": "11.0.24+8-post-Ubuntu-1ubuntu320.04"
  }
 },
 "nbformat": 4,
 "nbformat_minor": 4
}
