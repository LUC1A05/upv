{
 "cells": [
  {
   "cell_type": "markdown",
   "id": "348b3184-a14c-4377-a195-62e32aba93ab",
   "metadata": {},
   "source": [
    "# Testu-fitxategietan irakurketa eta idazketa"
   ]
  },
  {
   "cell_type": "markdown",
   "id": "bd8e54d0-9163-43e1-8d3f-a3e7b852ed16",
   "metadata": {},
   "source": [
    "## Irakurketa: Scanner eta FileReader klaseak"
   ]
  },
  {
   "cell_type": "code",
   "execution_count": null,
   "id": "6a92db72-6e1e-4a53-8659-d8a5c56b9c62",
   "metadata": {},
   "outputs": [],
   "source": [
    "public void readFile(String izena) {\n",
    "  try {\n",
    "    Scanner sarrera = new Scanner(new FileReader(izena));\n",
    "\n",
    "    String lerroa;\n",
    "    int kont = 0;\n",
    "    while (sarrera.hasNext()) {\n",
    "      lerroa = sarrera.nextLine();\n",
    "      kont++; \n",
    "      if ((kont % 10000) == 0) System.out.println(\"Lineas: \" + kont + \"\\t\" + lerroa);\n",
    "    }\n",
    "     \n",
    "    sarrera.close();\n",
    "  } // try \n",
    "  catch (IOException e) {\n",
    "    e.printStackTrace();\n",
    "  }                                 \n",
    "}"
   ]
  },
  {
   "cell_type": "code",
   "execution_count": null,
   "id": "1f7a870f-7c34-470e-b684-d74d30a3b4d7",
   "metadata": {},
   "outputs": [],
   "source": [
    "readFile(\"words.txt\");"
   ]
  },
  {
   "cell_type": "markdown",
   "id": "7af0a8ae-bb3b-44de-881b-820d11bd5a4c",
   "metadata": {},
   "source": [
    "## Idazketa (irteerako fitxategia sortu)"
   ]
  },
  {
   "cell_type": "code",
   "execution_count": null,
   "id": "a70e7746-d42d-4b31-905a-2dadac08dd30",
   "metadata": {},
   "outputs": [],
   "source": [
    "public void fitxategiaSortu(String fIzena, String[] lerroak) {\n",
    "// Post: fIzena izeneko fitxategian idatzi dira lerroak\n",
    "  try {\n",
    "    PrintWriter writer = new PrintWriter(fIzena, \"UTF-8\");\n",
    "    for (String lerro: lerroak) {\n",
    "      writer.println(lerro);\n",
    "    }\n",
    "    writer.close();\n",
    "  } \n",
    "  catch (IOException e) {\n",
    "    e.printStackTrace();\n",
    "  }\n",
    "}"
   ]
  },
  {
   "cell_type": "code",
   "execution_count": null,
   "id": "ba347e0d-1086-4d00-a8ce-ec3917aad156",
   "metadata": {},
   "outputs": [],
   "source": [
    "String[] taula = {\"kaixo\", \"gero arte\", \"agur bero bat\"};\n",
    "\n",
    "fitxategiaSortu(\"fichSalida.txt\", taula);"
   ]
  },
  {
   "cell_type": "code",
   "execution_count": null,
   "id": "4107f791-6a3e-4dc0-b395-d0d7b0109947",
   "metadata": {},
   "outputs": [],
   "source": []
  }
 ],
 "metadata": {
  "kernelspec": {
   "display_name": "Java",
   "language": "java",
   "name": "java"
  },
  "language_info": {
   "codemirror_mode": "java",
   "file_extension": ".jshell",
   "mimetype": "text/x-java-source",
   "name": "Java",
   "pygments_lexer": "java",
   "version": "11.0.24+8-post-Ubuntu-1ubuntu320.04"
  }
 },
 "nbformat": 4,
 "nbformat_minor": 5
}
